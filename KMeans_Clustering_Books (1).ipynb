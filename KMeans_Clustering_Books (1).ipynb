{
  "nbformat": 4,
  "nbformat_minor": 0,
  "metadata": {
    "colab": {
      "name": "KMeans Clustering Books",
      "provenance": [],
      "collapsed_sections": []
    },
    "kernelspec": {
      "name": "python3",
      "display_name": "Python 3"
    },
    "language_info": {
      "name": "python"
    }
  },
  "cells": [
    {
      "cell_type": "code",
      "execution_count": 6,
      "metadata": {
        "id": "FscpoTt2QOjo"
      },
      "outputs": [],
      "source": [
        "from sklearn.feature_extraction.text import TfidfVectorizer\n",
        "from sklearn.cluster import KMeans \n",
        "from sklearn.metrics import adjusted_rand_score\n",
        "import pandas as pd\n",
        "import numpy as np\n"
      ]
    },
    {
      "cell_type": "code",
      "source": [
        "data_description = pd.read_csv('description.csv',encoding='latin-1')"
      ],
      "metadata": {
        "id": "OXSByr_8j3kI"
      },
      "execution_count": 8,
      "outputs": []
    },
    {
      "cell_type": "code",
      "source": [
        "data_description.head()"
      ],
      "metadata": {
        "colab": {
          "base_uri": "https://localhost:8080/",
          "height": 206
        },
        "id": "Zjw5D8o4l8dy",
        "outputId": "eb762077-2f31-4829-dda1-60b1167ea1a4"
      },
      "execution_count": 9,
      "outputs": [
        {
          "output_type": "execute_result",
          "data": {
            "text/html": [
              "<div>\n",
              "<style scoped>\n",
              "    .dataframe tbody tr th:only-of-type {\n",
              "        vertical-align: middle;\n",
              "    }\n",
              "\n",
              "    .dataframe tbody tr th {\n",
              "        vertical-align: top;\n",
              "    }\n",
              "\n",
              "    .dataframe thead th {\n",
              "        text-align: right;\n",
              "    }\n",
              "</style>\n",
              "<table border=\"1\" class=\"dataframe\">\n",
              "  <thead>\n",
              "    <tr style=\"text-align: right;\">\n",
              "      <th></th>\n",
              "      <th>book_id</th>\n",
              "      <th>name</th>\n",
              "      <th>description</th>\n",
              "    </tr>\n",
              "  </thead>\n",
              "  <tbody>\n",
              "    <tr>\n",
              "      <th>0</th>\n",
              "      <td>4833.0</td>\n",
              "      <td>The Glass Castle</td>\n",
              "      <td>A tender, moving tale of unconditional love in...</td>\n",
              "    </tr>\n",
              "    <tr>\n",
              "      <th>1</th>\n",
              "      <td>590.0</td>\n",
              "      <td>Night (The Night Trilogy, #1)</td>\n",
              "      <td>Born into a Jewish ghetto in Hungary, as a chi...</td>\n",
              "    </tr>\n",
              "    <tr>\n",
              "      <th>2</th>\n",
              "      <td>4264.0</td>\n",
              "      <td>Angela's Ashes (Frank McCourt, #1)</td>\n",
              "      <td>Imbued on every page with Frank McCourt's asto...</td>\n",
              "    </tr>\n",
              "    <tr>\n",
              "      <th>3</th>\n",
              "      <td>3361.0</td>\n",
              "      <td>Eat, Pray, Love</td>\n",
              "      <td>A celebrated writer's irresistible, candid, an...</td>\n",
              "    </tr>\n",
              "    <tr>\n",
              "      <th>4</th>\n",
              "      <td>4535.0</td>\n",
              "      <td>Into Thin Air: A Personal Account of the Mount...</td>\n",
              "      <td>A bank of clouds was assembling on the not-so-...</td>\n",
              "    </tr>\n",
              "  </tbody>\n",
              "</table>\n",
              "</div>"
            ],
            "text/plain": [
              "   book_id  ...                                        description\n",
              "0   4833.0  ...  A tender, moving tale of unconditional love in...\n",
              "1    590.0  ...  Born into a Jewish ghetto in Hungary, as a chi...\n",
              "2   4264.0  ...  Imbued on every page with Frank McCourt's asto...\n",
              "3   3361.0  ...  A celebrated writer's irresistible, candid, an...\n",
              "4   4535.0  ...  A bank of clouds was assembling on the not-so-...\n",
              "\n",
              "[5 rows x 3 columns]"
            ]
          },
          "metadata": {},
          "execution_count": 9
        }
      ]
    },
    {
      "cell_type": "code",
      "source": [
        "vectoriser = TfidfVectorizer(stop_words='english')"
      ],
      "metadata": {
        "id": "_kN1x6sdnrVO"
      },
      "execution_count": 10,
      "outputs": []
    },
    {
      "cell_type": "code",
      "source": [
        "data_description['description'] = data_description['description'].fillna('')"
      ],
      "metadata": {
        "id": "esgEgJKDvgCK"
      },
      "execution_count": 12,
      "outputs": []
    },
    {
      "cell_type": "code",
      "source": [
        "X = vectoriser.fit_transform(data_description['description'])"
      ],
      "metadata": {
        "id": "FFPuzjLzuqOj"
      },
      "execution_count": 13,
      "outputs": []
    },
    {
      "cell_type": "code",
      "source": [
        "true_k =10"
      ],
      "metadata": {
        "id": "tTjITAcvvdX0"
      },
      "execution_count": 28,
      "outputs": []
    },
    {
      "cell_type": "code",
      "source": [
        "model = KMeans(n_clusters=true_k,init='k-means++',max_iter=100,n_init=1)"
      ],
      "metadata": {
        "id": "6Ss2UAQmwfZL"
      },
      "execution_count": 29,
      "outputs": []
    },
    {
      "cell_type": "code",
      "source": [
        "model.fit(X)"
      ],
      "metadata": {
        "colab": {
          "base_uri": "https://localhost:8080/"
        },
        "id": "24CVyZmxwyo_",
        "outputId": "ab5eeb18-5d41-40c0-8282-c2bbf9dc8859"
      },
      "execution_count": 30,
      "outputs": [
        {
          "output_type": "execute_result",
          "data": {
            "text/plain": [
              "KMeans(max_iter=100, n_clusters=10, n_init=1)"
            ]
          },
          "metadata": {},
          "execution_count": 30
        }
      ]
    },
    {
      "cell_type": "code",
      "source": [
        "order_centroids = model.cluster_centers_.argsort()[:,::-1]"
      ],
      "metadata": {
        "id": "acn3J_rcw1JC"
      },
      "execution_count": 31,
      "outputs": []
    },
    {
      "cell_type": "code",
      "source": [
        "terms = vectoriser.get_feature_names()"
      ],
      "metadata": {
        "colab": {
          "base_uri": "https://localhost:8080/"
        },
        "id": "tDmJospfxXmW",
        "outputId": "4f8fc3a9-5621-4801-d811-f26bcb25601d"
      },
      "execution_count": 32,
      "outputs": [
        {
          "output_type": "stream",
          "name": "stderr",
          "text": [
            "/usr/local/lib/python3.7/dist-packages/sklearn/utils/deprecation.py:87: FutureWarning: Function get_feature_names is deprecated; get_feature_names is deprecated in 1.0 and will be removed in 1.2. Please use get_feature_names_out instead.\n",
            "  warnings.warn(msg, category=FutureWarning)\n"
          ]
        }
      ]
    },
    {
      "cell_type": "code",
      "source": [
        ""
      ],
      "metadata": {
        "id": "TsvKmb_W3CcX"
      },
      "execution_count": null,
      "outputs": []
    },
    {
      "cell_type": "code",
      "source": [
        "Y = vectoriser.transform(['A tender, chrome browsers open'])"
      ],
      "metadata": {
        "id": "Cpyz5xnsxj_R"
      },
      "execution_count": 33,
      "outputs": []
    },
    {
      "cell_type": "code",
      "source": [
        "for i in range(true_k):\n",
        "  print(\"Cluster %d\" %i)\n",
        "  for ind in order_centroids[i,:10]:\n",
        "    print('%s' %terms[ind])\n",
        "  print('\\n')  "
      ],
      "metadata": {
        "colab": {
          "base_uri": "https://localhost:8080/"
        },
        "id": "HI23tcC93FSj",
        "outputId": "aa400409-3ef7-4b77-fe07-40837ee1e343"
      },
      "execution_count": 37,
      "outputs": [
        {
          "output_type": "stream",
          "name": "stdout",
          "text": [
            "Cluster 0\n",
            "adams\n",
            "john\n",
            "american\n",
            "patriot\n",
            "zeal\n",
            "regarded\n",
            "abigail\n",
            "yankee\n",
            "mccullough\n",
            "enthralling\n",
            "\n",
            "\n",
            "Cluster 1\n",
            "book\n",
            "life\n",
            "new\n",
            "story\n",
            "world\n",
            "love\n",
            "family\n",
            "health\n",
            "guide\n",
            "history\n",
            "\n",
            "\n",
            "Cluster 2\n",
            "plastics\n",
            "opportunities\n",
            "bring\n",
            "explains\n",
            "problems\n",
            "used\n",
            "experimentation\n",
            "experiencing\n",
            "experiment\n",
            "experimental\n",
            "\n",
            "\n",
            "Cluster 3\n",
            "frank\n",
            "childhood\n",
            "miserable\n",
            "mccourt\n",
            "irish\n",
            "astounding\n",
            "imbued\n",
            "ireland\n",
            "angela\n",
            "malachy\n",
            "\n",
            "\n",
            "Cluster 4\n",
            "candy\n",
            "machine\n",
            "outlaw\n",
            "round\n",
            "tree\n",
            "unheard\n",
            "valium\n",
            "electroshock\n",
            "christmas\n",
            "dull\n",
            "\n",
            "\n",
            "Cluster 5\n",
            "order\n",
            "mennonites\n",
            "brethren\n",
            "hutterites\n",
            "amish\n",
            "old\n",
            "strategy\n",
            "groups\n",
            "culture\n",
            "world\n",
            "\n",
            "\n",
            "Cluster 6\n",
            "salma\n",
            "lily\n",
            "blueberry\n",
            "friendship\n",
            "daughter\n",
            "pageant\n",
            "newbery\n",
            "honor\n",
            "workers\n",
            "migrant\n",
            "\n",
            "\n",
            "Cluster 7\n",
            "humour\n",
            "idea\n",
            "spanish\n",
            "vicky\n",
            "joe\n",
            "author\n",
            "harpercollins\n",
            "love\n",
            "year\n",
            "old\n",
            "\n",
            "\n",
            "Cluster 8\n",
            "gardens\n",
            "garden\n",
            "english\n",
            "country\n",
            "house\n",
            "style\n",
            "new\n",
            "tea\n",
            "crafts\n",
            "cragside\n",
            "\n",
            "\n",
            "Cluster 9\n",
            "ali\n",
            "hirsi\n",
            "muslim\n",
            "political\n",
            "parliament\n",
            "headlines\n",
            "family\n",
            "despots\n",
            "significant\n",
            "troubled\n",
            "\n",
            "\n"
          ]
        }
      ]
    },
    {
      "cell_type": "code",
      "source": [
        "pred = model.predict(Y)"
      ],
      "metadata": {
        "id": "XP-zB4YdyFEc"
      },
      "execution_count": 34,
      "outputs": []
    },
    {
      "cell_type": "code",
      "source": [
        "print(pred)"
      ],
      "metadata": {
        "colab": {
          "base_uri": "https://localhost:8080/"
        },
        "id": "rE4K5FfByI4b",
        "outputId": "8dac1f43-70c0-47cd-b452-589f2bfcae90"
      },
      "execution_count": 35,
      "outputs": [
        {
          "output_type": "stream",
          "name": "stdout",
          "text": [
            "[1]\n"
          ]
        }
      ]
    },
    {
      "cell_type": "code",
      "source": [
        ""
      ],
      "metadata": {
        "id": "93A8Vg6byMfX"
      },
      "execution_count": null,
      "outputs": []
    }
  ]
}