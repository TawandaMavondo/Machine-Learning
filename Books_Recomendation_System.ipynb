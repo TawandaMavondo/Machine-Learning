{
  "nbformat": 4,
  "nbformat_minor": 0,
  "metadata": {
    "colab": {
      "name": "Books Recomendation System",
      "provenance": []
    },
    "kernelspec": {
      "name": "python3",
      "display_name": "Python 3"
    },
    "language_info": {
      "name": "python"
    }
  },
  "cells": [
    {
      "cell_type": "code",
      "execution_count": 7,
      "metadata": {
        "id": "qfZohbZDDcnV"
      },
      "outputs": [],
      "source": [
        "import pandas as pd\n",
        "import numpy as np\n",
        "from sklearn.cluster import KMeans\n",
        "from sklearn.feature_extraction.text import TfidfVectorizer\n",
        "from sklearn.metrics import adjusted_rand_score\n",
        "from sklearn.metrics.pairwise import linear_kernel"
      ]
    },
    {
      "cell_type": "code",
      "source": [
        "data = pd.read_csv('/content/description.csv',encoding='latin-1')"
      ],
      "metadata": {
        "id": "-boIQ_KZEM1v"
      },
      "execution_count": 2,
      "outputs": []
    },
    {
      "cell_type": "code",
      "source": [
        "data.head()"
      ],
      "metadata": {
        "colab": {
          "base_uri": "https://localhost:8080/",
          "height": 206
        },
        "id": "pm-NyzLoETLm",
        "outputId": "6744a2e9-4de4-4356-a53f-51b293cbac83"
      },
      "execution_count": 3,
      "outputs": [
        {
          "output_type": "execute_result",
          "data": {
            "text/html": [
              "<div>\n",
              "<style scoped>\n",
              "    .dataframe tbody tr th:only-of-type {\n",
              "        vertical-align: middle;\n",
              "    }\n",
              "\n",
              "    .dataframe tbody tr th {\n",
              "        vertical-align: top;\n",
              "    }\n",
              "\n",
              "    .dataframe thead th {\n",
              "        text-align: right;\n",
              "    }\n",
              "</style>\n",
              "<table border=\"1\" class=\"dataframe\">\n",
              "  <thead>\n",
              "    <tr style=\"text-align: right;\">\n",
              "      <th></th>\n",
              "      <th>book_id</th>\n",
              "      <th>name</th>\n",
              "      <th>description</th>\n",
              "    </tr>\n",
              "  </thead>\n",
              "  <tbody>\n",
              "    <tr>\n",
              "      <th>0</th>\n",
              "      <td>4833.0</td>\n",
              "      <td>The Glass Castle</td>\n",
              "      <td>A tender, moving tale of unconditional love in...</td>\n",
              "    </tr>\n",
              "    <tr>\n",
              "      <th>1</th>\n",
              "      <td>590.0</td>\n",
              "      <td>Night (The Night Trilogy, #1)</td>\n",
              "      <td>Born into a Jewish ghetto in Hungary, as a chi...</td>\n",
              "    </tr>\n",
              "    <tr>\n",
              "      <th>2</th>\n",
              "      <td>4264.0</td>\n",
              "      <td>Angela's Ashes (Frank McCourt, #1)</td>\n",
              "      <td>Imbued on every page with Frank McCourt's asto...</td>\n",
              "    </tr>\n",
              "    <tr>\n",
              "      <th>3</th>\n",
              "      <td>3361.0</td>\n",
              "      <td>Eat, Pray, Love</td>\n",
              "      <td>A celebrated writer's irresistible, candid, an...</td>\n",
              "    </tr>\n",
              "    <tr>\n",
              "      <th>4</th>\n",
              "      <td>4535.0</td>\n",
              "      <td>Into Thin Air: A Personal Account of the Mount...</td>\n",
              "      <td>A bank of clouds was assembling on the not-so-...</td>\n",
              "    </tr>\n",
              "  </tbody>\n",
              "</table>\n",
              "</div>"
            ],
            "text/plain": [
              "   book_id  ...                                        description\n",
              "0   4833.0  ...  A tender, moving tale of unconditional love in...\n",
              "1    590.0  ...  Born into a Jewish ghetto in Hungary, as a chi...\n",
              "2   4264.0  ...  Imbued on every page with Frank McCourt's asto...\n",
              "3   3361.0  ...  A celebrated writer's irresistible, candid, an...\n",
              "4   4535.0  ...  A bank of clouds was assembling on the not-so-...\n",
              "\n",
              "[5 rows x 3 columns]"
            ]
          },
          "metadata": {},
          "execution_count": 3
        }
      ]
    },
    {
      "cell_type": "code",
      "source": [
        "vectoriser = TfidfVectorizer(stop_words='english')"
      ],
      "metadata": {
        "id": "jHYYyQhgFeii"
      },
      "execution_count": 4,
      "outputs": []
    },
    {
      "cell_type": "code",
      "source": [
        "data['description'] = data['description'].fillna('') "
      ],
      "metadata": {
        "id": "_X7uGANaIPSp"
      },
      "execution_count": 5,
      "outputs": []
    },
    {
      "cell_type": "code",
      "source": [
        "books_desc_matrix = vectoriser.fit_transform(data['description'])"
      ],
      "metadata": {
        "id": "R8F6Oqh6ShHV"
      },
      "execution_count": 6,
      "outputs": []
    },
    {
      "cell_type": "code",
      "source": [
        "books_desc_matrix.shape"
      ],
      "metadata": {
        "colab": {
          "base_uri": "https://localhost:8080/"
        },
        "id": "owIgP8WuS6sQ",
        "outputId": "bd6d5557-b3bd-4715-dc0f-7bea79727ad8"
      },
      "execution_count": 8,
      "outputs": [
        {
          "output_type": "execute_result",
          "data": {
            "text/plain": [
              "(143, 4186)"
            ]
          },
          "metadata": {},
          "execution_count": 8
        }
      ]
    },
    {
      "cell_type": "code",
      "source": [
        "cosine_similarity = linear_kernel(books_desc_matrix,books_desc_matrix)\n",
        "cosine_similarity"
      ],
      "metadata": {
        "colab": {
          "base_uri": "https://localhost:8080/"
        },
        "id": "EQcd7N6rTSvj",
        "outputId": "a82f88b0-f184-4b85-9967-51c2883a957f"
      },
      "execution_count": 16,
      "outputs": [
        {
          "output_type": "execute_result",
          "data": {
            "text/plain": [
              "array([[1.        , 0.03240804, 0.021228  , ..., 0.005362  , 0.01071911,\n",
              "        0.00532216],\n",
              "       [0.03240804, 1.        , 0.02661665, ..., 0.        , 0.00510551,\n",
              "        0.        ],\n",
              "       [0.021228  , 0.02661665, 1.        , ..., 0.01079403, 0.        ,\n",
              "        0.00563089],\n",
              "       ...,\n",
              "       [0.005362  , 0.        , 0.01079403, ..., 1.        , 0.        ,\n",
              "        0.01875445],\n",
              "       [0.01071911, 0.00510551, 0.        , ..., 0.        , 1.        ,\n",
              "        0.05737646],\n",
              "       [0.00532216, 0.        , 0.00563089, ..., 0.01875445, 0.05737646,\n",
              "        1.        ]])"
            ]
          },
          "metadata": {},
          "execution_count": 16
        }
      ]
    },
    {
      "cell_type": "code",
      "source": [
        "indices = pd.Series(data['name'].index)"
      ],
      "metadata": {
        "id": "2uz_OSzeTyHp"
      },
      "execution_count": 17,
      "outputs": []
    },
    {
      "cell_type": "code",
      "source": [
        "def recommend(index,cosine_sim = cosine_similarity):\n",
        "  id = indices[index]\n",
        "  sim_scores = list(enumerate(cosine_sim[id]))\n",
        "  sim_scores = sorted(sim_scores,key= lambda x:x[1],reverse=True)\n",
        "  sim_scores = sim_scores[1:6]\n",
        "  books_index =[i[0] for i in sim_scores]\n",
        "  return data['name'].iloc[books_index]"
      ],
      "metadata": {
        "id": "Opz7EDXyUBkm"
      },
      "execution_count": 18,
      "outputs": []
    },
    {
      "cell_type": "code",
      "source": [
        "recommend(6)"
      ],
      "metadata": {
        "colab": {
          "base_uri": "https://localhost:8080/"
        },
        "id": "7cHC6OBBU55z",
        "outputId": "7521fae0-0550-41a1-93df-78bc3e1a9040"
      },
      "execution_count": 19,
      "outputs": [
        {
          "output_type": "execute_result",
          "data": {
            "text/plain": [
              "2            Angela's Ashes (Frank McCourt, #1) \n",
              "9         A Child Called \"It\" (Dave Pelzer, #1) \n",
              "21         Wild Swans: Three Daughters of China \n",
              "22    A Long Way Gone: Memoirs of a Boy Soldier \n",
              "29                    The Diary of a Young Girl \n",
              "Name: name, dtype: object"
            ]
          },
          "metadata": {},
          "execution_count": 19
        }
      ]
    },
    {
      "cell_type": "code",
      "source": [
        ""
      ],
      "metadata": {
        "id": "xO7bkUmsVyCJ"
      },
      "execution_count": null,
      "outputs": []
    }
  ]
}