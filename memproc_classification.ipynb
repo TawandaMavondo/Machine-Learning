{
 "cells": [
  {
   "cell_type": "code",
   "execution_count": 1,
   "id": "940479f7",
   "metadata": {},
   "outputs": [],
   "source": [
    "import pandas as pd\n",
    "from sklearn.model_selection import train_test_split\n",
    "from sklearn.tree import DecisionTreeClassifier\n",
    "from sklearn.metrics import accuracy_score\n",
    "from sklearn.preprocessing import StandardScaler\n",
    "from sklearn.ensemble import RandomForestClassifier\n",
    "from sklearn.ensemble import AdaBoostClassifier\n",
    "from sklearn.ensemble import VotingClassifier\n",
    "from sklearn.ensemble import GradientBoostingClassifier\n",
    "from sklearn.svm import SVC\n",
    "from sklearn.naive_bayes import GaussianNB\n",
    "from sklearn.metrics import classification_report"
   ]
  },
  {
   "cell_type": "code",
   "execution_count": 2,
   "id": "0f6d5162",
   "metadata": {},
   "outputs": [
    {
     "data": {
      "text/html": [
       "<div>\n",
       "<style scoped>\n",
       "    .dataframe tbody tr th:only-of-type {\n",
       "        vertical-align: middle;\n",
       "    }\n",
       "\n",
       "    .dataframe tbody tr th {\n",
       "        vertical-align: top;\n",
       "    }\n",
       "\n",
       "    .dataframe thead th {\n",
       "        text-align: right;\n",
       "    }\n",
       "</style>\n",
       "<table border=\"1\" class=\"dataframe\">\n",
       "  <thead>\n",
       "    <tr style=\"text-align: right;\">\n",
       "      <th></th>\n",
       "      <th>host</th>\n",
       "      <th>proc</th>\n",
       "      <th>mem</th>\n",
       "      <th>state</th>\n",
       "    </tr>\n",
       "  </thead>\n",
       "  <tbody>\n",
       "    <tr>\n",
       "      <th>0</th>\n",
       "      <td>crisnd6378</td>\n",
       "      <td>-1.735788</td>\n",
       "      <td>-0.722979</td>\n",
       "      <td>Normal</td>\n",
       "    </tr>\n",
       "    <tr>\n",
       "      <th>1</th>\n",
       "      <td>crisnd5885</td>\n",
       "      <td>-0.568770</td>\n",
       "      <td>-1.934926</td>\n",
       "      <td>Normal</td>\n",
       "    </tr>\n",
       "    <tr>\n",
       "      <th>2</th>\n",
       "      <td>crisnd4508</td>\n",
       "      <td>-1.102691</td>\n",
       "      <td>-2.629311</td>\n",
       "      <td>Normal</td>\n",
       "    </tr>\n",
       "    <tr>\n",
       "      <th>3</th>\n",
       "      <td>crisnd6376</td>\n",
       "      <td>-2.010346</td>\n",
       "      <td>-1.778285</td>\n",
       "      <td>Normal</td>\n",
       "    </tr>\n",
       "    <tr>\n",
       "      <th>4</th>\n",
       "      <td>crisnd1301</td>\n",
       "      <td>-0.683525</td>\n",
       "      <td>-0.396034</td>\n",
       "      <td>Normal</td>\n",
       "    </tr>\n",
       "  </tbody>\n",
       "</table>\n",
       "</div>"
      ],
      "text/plain": [
       "         host      proc       mem   state\n",
       "0  crisnd6378 -1.735788 -0.722979  Normal\n",
       "1  crisnd5885 -0.568770 -1.934926  Normal\n",
       "2  crisnd4508 -1.102691 -2.629311  Normal\n",
       "3  crisnd6376 -2.010346 -1.778285  Normal\n",
       "4  crisnd1301 -0.683525 -0.396034  Normal"
      ]
     },
     "execution_count": 2,
     "metadata": {},
     "output_type": "execute_result"
    }
   ],
   "source": [
    "df=pd.read_csv('memproc.csv')\n",
    "df.head()"
   ]
  },
  {
   "cell_type": "code",
   "execution_count": 3,
   "id": "b5ce6b71",
   "metadata": {},
   "outputs": [
    {
     "name": "stdout",
     "output_type": "stream",
     "text": [
      "<class 'pandas.core.frame.DataFrame'>\n",
      "RangeIndex: 247 entries, 0 to 246\n",
      "Data columns (total 4 columns):\n",
      " #   Column  Non-Null Count  Dtype  \n",
      "---  ------  --------------  -----  \n",
      " 0   host    247 non-null    object \n",
      " 1   proc    247 non-null    float64\n",
      " 2   mem     247 non-null    float64\n",
      " 3   state   247 non-null    object \n",
      "dtypes: float64(2), object(2)\n",
      "memory usage: 7.8+ KB\n"
     ]
    }
   ],
   "source": [
    "df.info()"
   ]
  },
  {
   "cell_type": "code",
   "execution_count": 4,
   "id": "d523cd89",
   "metadata": {},
   "outputs": [],
   "source": [
    "df.drop('host', axis =1,inplace =True)"
   ]
  },
  {
   "cell_type": "code",
   "execution_count": 5,
   "id": "304b2d46",
   "metadata": {},
   "outputs": [],
   "source": [
    "# df['state'],_=pd.factorize(df['state'])\n",
    "# df.info()"
   ]
  },
  {
   "cell_type": "code",
   "execution_count": 6,
   "id": "6bea201c",
   "metadata": {},
   "outputs": [
    {
     "data": {
      "text/html": [
       "<div>\n",
       "<style scoped>\n",
       "    .dataframe tbody tr th:only-of-type {\n",
       "        vertical-align: middle;\n",
       "    }\n",
       "\n",
       "    .dataframe tbody tr th {\n",
       "        vertical-align: top;\n",
       "    }\n",
       "\n",
       "    .dataframe thead th {\n",
       "        text-align: right;\n",
       "    }\n",
       "</style>\n",
       "<table border=\"1\" class=\"dataframe\">\n",
       "  <thead>\n",
       "    <tr style=\"text-align: right;\">\n",
       "      <th></th>\n",
       "      <th>host</th>\n",
       "      <th>proc</th>\n",
       "      <th>mem</th>\n",
       "      <th>state</th>\n",
       "    </tr>\n",
       "  </thead>\n",
       "  <tbody>\n",
       "    <tr>\n",
       "      <th>0</th>\n",
       "      <td>crisnd6378</td>\n",
       "      <td>-1.735788</td>\n",
       "      <td>-0.722979</td>\n",
       "      <td>Normal</td>\n",
       "    </tr>\n",
       "    <tr>\n",
       "      <th>1</th>\n",
       "      <td>crisnd5885</td>\n",
       "      <td>-0.568770</td>\n",
       "      <td>-1.934926</td>\n",
       "      <td>Normal</td>\n",
       "    </tr>\n",
       "    <tr>\n",
       "      <th>2</th>\n",
       "      <td>crisnd4508</td>\n",
       "      <td>-1.102691</td>\n",
       "      <td>-2.629311</td>\n",
       "      <td>Normal</td>\n",
       "    </tr>\n",
       "    <tr>\n",
       "      <th>3</th>\n",
       "      <td>crisnd6376</td>\n",
       "      <td>-2.010346</td>\n",
       "      <td>-1.778285</td>\n",
       "      <td>Normal</td>\n",
       "    </tr>\n",
       "    <tr>\n",
       "      <th>4</th>\n",
       "      <td>crisnd1301</td>\n",
       "      <td>-0.683525</td>\n",
       "      <td>-0.396034</td>\n",
       "      <td>Normal</td>\n",
       "    </tr>\n",
       "  </tbody>\n",
       "</table>\n",
       "</div>"
      ],
      "text/plain": [
       "         host      proc       mem   state\n",
       "0  crisnd6378 -1.735788 -0.722979  Normal\n",
       "1  crisnd5885 -0.568770 -1.934926  Normal\n",
       "2  crisnd4508 -1.102691 -2.629311  Normal\n",
       "3  crisnd6376 -2.010346 -1.778285  Normal\n",
       "4  crisnd1301 -0.683525 -0.396034  Normal"
      ]
     },
     "execution_count": 6,
     "metadata": {},
     "output_type": "execute_result"
    }
   ],
   "source": [
    "_"
   ]
  },
  {
   "cell_type": "code",
   "execution_count": 7,
   "id": "4245ea05",
   "metadata": {},
   "outputs": [
    {
     "data": {
      "text/plain": [
       "0        Normal\n",
       "1        Normal\n",
       "2        Normal\n",
       "3        Normal\n",
       "4        Normal\n",
       "         ...   \n",
       "242    Infected\n",
       "243    Infected\n",
       "244    Infected\n",
       "245      Normal\n",
       "246    Infected\n",
       "Name: state, Length: 247, dtype: object"
      ]
     },
     "execution_count": 7,
     "metadata": {},
     "output_type": "execute_result"
    }
   ],
   "source": [
    "features=['proc','mem']\n",
    "X=df[features]\n",
    "y=df['state']\n",
    "y"
   ]
  },
  {
   "cell_type": "code",
   "execution_count": 8,
   "id": "290a9a4f",
   "metadata": {},
   "outputs": [
    {
     "data": {
      "text/html": [
       "<div>\n",
       "<style scoped>\n",
       "    .dataframe tbody tr th:only-of-type {\n",
       "        vertical-align: middle;\n",
       "    }\n",
       "\n",
       "    .dataframe tbody tr th {\n",
       "        vertical-align: top;\n",
       "    }\n",
       "\n",
       "    .dataframe thead th {\n",
       "        text-align: right;\n",
       "    }\n",
       "</style>\n",
       "<table border=\"1\" class=\"dataframe\">\n",
       "  <thead>\n",
       "    <tr style=\"text-align: right;\">\n",
       "      <th></th>\n",
       "      <th>proc</th>\n",
       "      <th>mem</th>\n",
       "    </tr>\n",
       "  </thead>\n",
       "  <tbody>\n",
       "    <tr>\n",
       "      <th>0</th>\n",
       "      <td>-1.735788</td>\n",
       "      <td>-0.722979</td>\n",
       "    </tr>\n",
       "    <tr>\n",
       "      <th>1</th>\n",
       "      <td>-0.568770</td>\n",
       "      <td>-1.934926</td>\n",
       "    </tr>\n",
       "    <tr>\n",
       "      <th>2</th>\n",
       "      <td>-1.102691</td>\n",
       "      <td>-2.629311</td>\n",
       "    </tr>\n",
       "    <tr>\n",
       "      <th>3</th>\n",
       "      <td>-2.010346</td>\n",
       "      <td>-1.778285</td>\n",
       "    </tr>\n",
       "    <tr>\n",
       "      <th>4</th>\n",
       "      <td>-0.683525</td>\n",
       "      <td>-0.396034</td>\n",
       "    </tr>\n",
       "    <tr>\n",
       "      <th>...</th>\n",
       "      <td>...</td>\n",
       "      <td>...</td>\n",
       "    </tr>\n",
       "    <tr>\n",
       "      <th>242</th>\n",
       "      <td>3.142826</td>\n",
       "      <td>0.329150</td>\n",
       "    </tr>\n",
       "    <tr>\n",
       "      <th>243</th>\n",
       "      <td>1.054215</td>\n",
       "      <td>0.711637</td>\n",
       "    </tr>\n",
       "    <tr>\n",
       "      <th>244</th>\n",
       "      <td>0.410152</td>\n",
       "      <td>2.400802</td>\n",
       "    </tr>\n",
       "    <tr>\n",
       "      <th>245</th>\n",
       "      <td>-0.075083</td>\n",
       "      <td>-0.571929</td>\n",
       "    </tr>\n",
       "    <tr>\n",
       "      <th>246</th>\n",
       "      <td>0.172419</td>\n",
       "      <td>0.808297</td>\n",
       "    </tr>\n",
       "  </tbody>\n",
       "</table>\n",
       "<p>247 rows × 2 columns</p>\n",
       "</div>"
      ],
      "text/plain": [
       "         proc       mem\n",
       "0   -1.735788 -0.722979\n",
       "1   -0.568770 -1.934926\n",
       "2   -1.102691 -2.629311\n",
       "3   -2.010346 -1.778285\n",
       "4   -0.683525 -0.396034\n",
       "..        ...       ...\n",
       "242  3.142826  0.329150\n",
       "243  1.054215  0.711637\n",
       "244  0.410152  2.400802\n",
       "245 -0.075083 -0.571929\n",
       "246  0.172419  0.808297\n",
       "\n",
       "[247 rows x 2 columns]"
      ]
     },
     "execution_count": 8,
     "metadata": {},
     "output_type": "execute_result"
    }
   ],
   "source": [
    "scaling=StandardScaler()\n",
    "scaling.fit_transform(X)\n",
    "X"
   ]
  },
  {
   "cell_type": "code",
   "execution_count": 9,
   "id": "fe2f5b9d",
   "metadata": {},
   "outputs": [],
   "source": [
    "Xtrain,Xtest,ytrain,ytest=train_test_split(X,y , test_size=0.2,random_state=13,stratify=y)\n",
    "dtc=DecisionTreeClassifier()\n",
    "rfc=RandomForestClassifier()\n",
    "abc=AdaBoostClassifier()\n",
    "dbc=GradientBoostingClassifier()\n",
    "svmm=SVC(probability=True)\n",
    "nb=GaussianNB()\n",
    "vcl=VotingClassifier(estimators=[('dcntree',dtc),('naive_bayes',nb),('svm',svmm)],voting='hard')"
   ]
  },
  {
   "cell_type": "code",
   "execution_count": 10,
   "id": "444b35a3",
   "metadata": {},
   "outputs": [
    {
     "data": {
      "text/plain": [
       "SVC(probability=True)"
      ]
     },
     "execution_count": 10,
     "metadata": {},
     "output_type": "execute_result"
    }
   ],
   "source": [
    "dtc.fit(Xtrain,ytrain)\n",
    "rfc.fit(Xtrain,ytrain)\n",
    "abc.fit(Xtrain,ytrain)\n",
    "dbc.fit(Xtrain,ytrain)\n",
    "vcl.fit(Xtrain,ytrain)\n",
    "nb.fit(Xtrain,ytrain)\n",
    "svmm.fit(Xtrain,ytrain)"
   ]
  },
  {
   "cell_type": "code",
   "execution_count": 11,
   "id": "46c7ed15",
   "metadata": {},
   "outputs": [],
   "source": [
    "dtc_pred=dtc.predict(Xtest)\n",
    "rfc_pred=rfc.predict(Xtest)\n",
    "abc_pred=abc.predict(Xtest)\n",
    "dbc_pred=dbc.predict(Xtest)\n",
    "svmm_pred=svmm.predict(Xtest)\n",
    "nb_pred=nb.predict(Xtest)\n",
    "vcl_pred=vcl.predict(Xtest)"
   ]
  },
  {
   "cell_type": "code",
   "execution_count": 12,
   "id": "e96e0017",
   "metadata": {},
   "outputs": [
    {
     "data": {
      "text/plain": [
       "array(['Infected', 'Infected', 'Normal', 'Normal', 'Normal', 'Infected',\n",
       "       'Normal', 'Normal', 'Normal', 'Normal', 'Normal', 'Normal',\n",
       "       'Normal', 'Normal', 'Normal', 'Normal', 'Normal', 'Normal',\n",
       "       'Normal', 'Infected', 'Normal', 'Normal', 'Infected', 'Infected',\n",
       "       'Normal', 'Infected', 'Infected', 'Infected', 'Normal', 'Normal',\n",
       "       'Normal', 'Normal', 'Normal', 'Normal', 'Normal', 'Normal',\n",
       "       'Normal', 'Normal', 'Normal', 'Normal', 'Normal', 'Normal',\n",
       "       'Infected', 'Normal', 'Normal', 'Infected', 'Normal', 'Normal',\n",
       "       'Normal', 'Infected'], dtype=object)"
      ]
     },
     "execution_count": 12,
     "metadata": {},
     "output_type": "execute_result"
    }
   ],
   "source": [
    "dtc_pred"
   ]
  },
  {
   "cell_type": "code",
   "execution_count": 13,
   "id": "041fd614",
   "metadata": {},
   "outputs": [
    {
     "data": {
      "text/plain": [
       "0.88"
      ]
     },
     "execution_count": 13,
     "metadata": {},
     "output_type": "execute_result"
    }
   ],
   "source": [
    "accuracy=accuracy_score(ytest,vcl_pred)\n",
    "accuracy"
   ]
  },
  {
   "cell_type": "code",
   "execution_count": 14,
   "id": "20d9e9a5",
   "metadata": {},
   "outputs": [
    {
     "name": "stdout",
     "output_type": "stream",
     "text": [
      "              precision    recall  f1-score   support\n",
      "\n",
      "    Infected       0.83      0.91      0.87        11\n",
      "      Normal       0.97      0.95      0.96        39\n",
      "\n",
      "    accuracy                           0.94        50\n",
      "   macro avg       0.90      0.93      0.92        50\n",
      "weighted avg       0.94      0.94      0.94        50\n",
      "\n",
      "\n",
      "              precision    recall  f1-score   support\n",
      "\n",
      "    Infected       0.89      0.73      0.80        11\n",
      "      Normal       0.93      0.97      0.95        39\n",
      "\n",
      "    accuracy                           0.92        50\n",
      "   macro avg       0.91      0.85      0.88        50\n",
      "weighted avg       0.92      0.92      0.92        50\n",
      "\n",
      "\n",
      "              precision    recall  f1-score   support\n",
      "\n",
      "    Infected       0.88      0.64      0.74        11\n",
      "      Normal       0.90      0.97      0.94        39\n",
      "\n",
      "    accuracy                           0.90        50\n",
      "   macro avg       0.89      0.81      0.84        50\n",
      "weighted avg       0.90      0.90      0.89        50\n",
      "\n",
      "\n",
      "              precision    recall  f1-score   support\n",
      "\n",
      "    Infected       0.89      0.73      0.80        11\n",
      "      Normal       0.93      0.97      0.95        39\n",
      "\n",
      "    accuracy                           0.92        50\n",
      "   macro avg       0.91      0.85      0.88        50\n",
      "weighted avg       0.92      0.92      0.92        50\n",
      "\n",
      "\n",
      "              precision    recall  f1-score   support\n",
      "\n",
      "    Infected       0.78      0.64      0.70        11\n",
      "      Normal       0.90      0.95      0.92        39\n",
      "\n",
      "    accuracy                           0.88        50\n",
      "   macro avg       0.84      0.79      0.81        50\n",
      "weighted avg       0.88      0.88      0.88        50\n",
      "\n",
      "\n",
      "              precision    recall  f1-score   support\n",
      "\n",
      "    Infected       0.78      0.64      0.70        11\n",
      "      Normal       0.90      0.95      0.92        39\n",
      "\n",
      "    accuracy                           0.88        50\n",
      "   macro avg       0.84      0.79      0.81        50\n",
      "weighted avg       0.88      0.88      0.88        50\n",
      "\n"
     ]
    }
   ],
   "source": [
    "dtc_report=classification_report(ytest,dtc_pred)\n",
    "print(dtc_report)\n",
    "print()\n",
    "rfc_report=classification_report(ytest,rfc_pred)\n",
    "print(rfc_report)\n",
    "print()\n",
    "abc_report=classification_report(ytest,abc_pred)\n",
    "print(abc_report)\n",
    "print()\n",
    "dbc_report=classification_report(ytest,dbc_pred)\n",
    "print(dbc_report)\n",
    "print()\n",
    "svmm_report=classification_report(ytest,svmm_pred)\n",
    "print(svmm_report)\n",
    "print()\n",
    "nb_report=classification_report(ytest,nb_pred)\n",
    "print(nb_report)\n"
   ]
  },
  {
   "cell_type": "code",
   "execution_count": 15,
   "id": "a51f1fb3",
   "metadata": {},
   "outputs": [
    {
     "name": "stdout",
     "output_type": "stream",
     "text": [
      "              precision    recall  f1-score   support\n",
      "\n",
      "    Infected       0.78      0.64      0.70        11\n",
      "      Normal       0.90      0.95      0.92        39\n",
      "\n",
      "    accuracy                           0.88        50\n",
      "   macro avg       0.84      0.79      0.81        50\n",
      "weighted avg       0.88      0.88      0.88        50\n",
      "\n"
     ]
    }
   ],
   "source": [
    "class_report=classification_report(ytest,vcl_pred)\n",
    "print(class_report)"
   ]
  },
  {
   "cell_type": "code",
   "execution_count": 17,
   "id": "419711a4",
   "metadata": {},
   "outputs": [
    {
     "data": {
      "text/plain": [
       "array(['Infected'], dtype=object)"
      ]
     },
     "execution_count": 17,
     "metadata": {},
     "output_type": "execute_result"
    }
   ],
   "source": [
    "pred=dtc.predict([[3,0.3]])\n",
    "pred"
   ]
  },
  {
   "cell_type": "code",
   "execution_count": null,
   "id": "69dfd669",
   "metadata": {},
   "outputs": [],
   "source": []
  }
 ],
 "metadata": {
  "kernelspec": {
   "display_name": "Python 3",
   "language": "python",
   "name": "python3"
  },
  "language_info": {
   "codemirror_mode": {
    "name": "ipython",
    "version": 3
   },
   "file_extension": ".py",
   "mimetype": "text/x-python",
   "name": "python",
   "nbconvert_exporter": "python",
   "pygments_lexer": "ipython3",
   "version": "3.7.10"
  }
 },
 "nbformat": 4,
 "nbformat_minor": 5
}
